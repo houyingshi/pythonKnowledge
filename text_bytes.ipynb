{
  "nbformat": 4,
  "nbformat_minor": 0,
  "metadata": {
    "colab": {
      "name": "text_bytes.ipynb",
      "provenance": [],
      "collapsed_sections": [],
      "toc_visible": true,
      "authorship_tag": "ABX9TyPyrF1x27oMsQIVfqm9HSRw"
    },
    "kernelspec": {
      "name": "python3",
      "display_name": "Python 3"
    },
    "language_info": {
      "name": "python"
    }
  },
  "cells": [
    {
      "cell_type": "markdown",
      "metadata": {
        "id": "8PjNO1OkfCUS"
      },
      "source": [
        "\n",
        "一、字符串的表示和存储\n",
        "\n",
        "字符串是字符的序列，每个字符都有有一个数字作为标识，同时会有一个将标识转换为存储字节的编码方案；\n",
        "\n",
        "\n",
        "```\n",
        "s = 'hello world python'\n",
        "for c in s:\n",
        "  print(c, end=' ')\n",
        "```\n",
        "\n",
        "`h e l l o   w o r l d   p y t h o n`\n",
        "\n",
        "ACSII为协议内的每个字符分别对应一个数字，然后以这个数字的二进制形式存储到计算机;\n",
        "\n",
        "```\n",
        "s = 'hello world python'\n",
        "\n",
        "for c in s: \n",
        "  num = ord(c)\n",
        "  print(num, format(num, 'b'))\n",
        "```\n",
        "\n",
        "```\n",
        "104 1101000\n",
        "101 1100101\n",
        "108 1101100\n",
        "108 1101100\n",
        "111 1101111\n",
        "32 100000\n",
        "119 1110111\n",
        "111 1101111\n",
        "114 1110010\n",
        "108 1101100\n",
        "100 1100100\n",
        "32 100000\n",
        "112 1110000\n",
        "121 1111001\n",
        "116 1110100\n",
        "104 1101000\n",
        "111 1101111\n",
        "110 1101110\n",
        "```\n",
        "\n",
        "ACSII协议覆盖的字符十分有限，使用一个字节就可以保存，这也是其比较简单的根源；\n",
        "\n",
        "```\n",
        "s = b'é'\n",
        "```\n",
        "```\n",
        "  File \"<ipython-input-19-b82fcf157fe5>\", line 1\n",
        "    s = b'é'\n",
        "       ^\n",
        "SyntaxError: bytes can only contain ASCII literal characters.\n",
        "```\n",
        "\n",
        "unicode标准为每个字符制定一个数字作为code point；\n",
        "```\n",
        "s = 'è ç í'\n",
        "for c in s:\n",
        "  print(ord(c))\n",
        "```\n",
        "```\n",
        "232\n",
        "32\n",
        "231\n",
        "32\n",
        "237\n",
        "```\n",
        "\n",
        "unicode支持大量的字符，需要使用多个字节来存储，这就涉及到字节的大小端、空间占用及与ACSII的兼容性问题；\n",
        "\n",
        "UTF-32编码方案直接使用4个字节来承载code poin的二进制形式，涉及大小端问题，比较浪费空间，使用较少；\n",
        "\n",
        "```\n",
        "s = 'èçí'\n",
        "\n",
        "for b in s.encode('utf_32be'):\n",
        "  print(hex(b), end=' ')\n",
        "\n",
        "print()\n",
        "for b in s.encode('utf_32le'):\n",
        "  print(hex(b), end=' ')\n",
        "\n",
        "print()\n",
        "for b in s.encode('utf_32'):\n",
        "  print(hex(b), end=' ')\n",
        "```\n",
        "\n",
        "```\n",
        "0x0 0x0 0x0 0xe8 0x0 0x0 0x0 0xe7 0x0 0x0 0x0 0xed \n",
        "0xe8 0x0 0x0 0x0 0xe7 0x0 0x0 0x0 0xed 0x0 0x0 0x0 \n",
        "0xff 0xfe 0x0 0x0 0xe8 0x0 0x0 0x0 0xe7 0x0 0x0 0x0 0xed 0x0 0x0 0x0 \n",
        "```\n",
        "\n",
        "UTF-16编码方案根据前两个字节的范围来确定使用两个字节还是四个字节，虽然比UTF-32节省空间，但是使用也比较少；\n",
        "```\n",
        "s = 'èçí'\n",
        "\n",
        "for b in s.encode('utf_16be'):\n",
        "  print(hex(b), end=' ')\n",
        "\n",
        "print()\n",
        "for b in s.encode('utf_16le'):\n",
        "  print(hex(b), end=' ')\n",
        "\n",
        "print()\n",
        "for b in s.encode('utf_16'):\n",
        "  print(hex(b), end=' ')\n",
        "```\n",
        "\n",
        "```\n",
        "0x0 0xe8 0x0 0xe7 0x0 0xed \n",
        "0xe8 0x0 0xe7 0x0 0xed 0x0 \n",
        "0xff 0xfe 0xe8 0x0 0xe7 0x0 0xed 0x0 \n",
        "```\n",
        "UTF-8也使用变长字节，每个字符使用的字节个数与其Unicode编号的大小有关，编号小的使用的字节就少，编号大的使用的字节就多，使用的字节个数为1～4不等；\n",
        "```\n",
        "s = 'èçí'\n",
        "\n",
        "for b in s.encode('utf_8'):\n",
        "  print(hex(b), end=' ')\n",
        "```\n",
        "```\n",
        "0xc3 0xa8 0xc3 0xa7 0xc3 0xad \n",
        "```\n",
        "\n",
        "二、字节数组\n",
        "bytes和bytearray的元素都是介于0-255之间的整数，但是通过字符编码方案也可以存储任何的字符串；字节数组切片还是对应的字节数组；\n",
        "字节数组可以直接显示ASCII字符；\n",
        "```\n",
        "s = 'helloèçí'\n",
        "b_arr = bytes(s, 'utf_8')\n",
        "print(type(b_arr))\n",
        "print(type(b_arr))\n",
        "for b in b_arr:\n",
        "  print(b, end=' ')\n",
        "\n",
        "print()\n",
        "print('element of bytes is int number', b_arr[0])\n",
        "\n",
        "print('splice of bytes is bytes',end = ' ' )\n",
        "b_arr_splice = b_arr[:1]\n",
        "print(b_arr_splice)\n",
        "\n",
        "num_b_arr = bytes([299])\n",
        "```\n",
        "```\n",
        "<class 'bytes'>\n",
        "b'hello\\xc3\\xa8\\xc3\\xa7\\xc3\\xad'\n",
        "104 101 108 108 111 195 168 195 167 195 173 \n",
        "element of bytes is int number 104\n",
        "splice of bytes is bytes b'h'\n",
        "---------------------------------------------------------------------------\n",
        "ValueError                                Traceback (most recent call last)\n",
        "<ipython-input-61-b8f064f91cf5> in <module>()\n",
        "     13 print(b_arr_splice)\n",
        "     14 \n",
        "---> 15 num_b_arr = bytes([299])\n",
        "\n",
        "ValueError: bytes must be in range(0, 256)\n",
        "```\n",
        "\n",
        "虽然byte数组是整数序列，但是"
      ]
    },
    {
      "cell_type": "code",
      "metadata": {
        "colab": {
          "base_uri": "https://localhost:8080/"
        },
        "id": "AFs0Jq97GZ_V",
        "outputId": "cc373e5e-0766-4d51-f5ee-ab0acc4f22ba"
      },
      "source": [
        "import struct\n",
        "record_format = 'hd4s'\n",
        "pack_bytes = struct.pack(record_format, 7 , 3.14,b'gbye')\n",
        "print(type(pack_bytes))\n",
        "print(pack_bytes)\n",
        "\n",
        "print(struct.unpack(record_format, pack_bytes))"
      ],
      "execution_count": 70,
      "outputs": [
        {
          "output_type": "stream",
          "text": [
            "<class 'bytes'>\n",
            "b'\\x07\\x00\\x00\\x00\\x00\\x00\\x00\\x00\\x1f\\x85\\xebQ\\xb8\\x1e\\t@gbye'\n",
            "(7, 3.14, b'gbye')\n"
          ],
          "name": "stdout"
        }
      ]
    },
    {
      "cell_type": "code",
      "metadata": {
        "colab": {
          "base_uri": "https://localhost:8080/",
          "height": 282
        },
        "id": "dw-lU3BZ-vYy",
        "outputId": "e722fe14-ae40-4c4a-d903-ff73e188006f"
      },
      "source": [
        "s = 'helloèçí'\n",
        "b_arr = bytes(s, 'utf_8')\n",
        "print(type(b_arr))\n",
        "print(b_arr)\n",
        "for b in b_arr:\n",
        "  print(b, end=' ')\n",
        "\n",
        "print()\n",
        "print('element of bytes is int number', b_arr[0])\n",
        "\n",
        "print('splice of bytes is bytes',end = ' ' )\n",
        "b_arr_splice = b_arr[:1]\n",
        "print(b_arr_splice)\n",
        "\n",
        "num_b_arr = bytes([299])"
      ],
      "execution_count": 65,
      "outputs": [
        {
          "output_type": "stream",
          "text": [
            "<class 'bytes'>\n",
            "b'hello\\xc3\\xa8\\xc3\\xa7\\xc3\\xad'\n",
            "104 101 108 108 111 195 168 195 167 195 173 \n",
            "element of bytes is int number 104\n",
            "splice of bytes is bytes b'h'\n"
          ],
          "name": "stdout"
        },
        {
          "output_type": "error",
          "ename": "ValueError",
          "evalue": "ignored",
          "traceback": [
            "\u001b[0;31m---------------------------------------------------------------------------\u001b[0m",
            "\u001b[0;31mValueError\u001b[0m                                Traceback (most recent call last)",
            "\u001b[0;32m<ipython-input-65-b8f064f91cf5>\u001b[0m in \u001b[0;36m<module>\u001b[0;34m()\u001b[0m\n\u001b[1;32m     13\u001b[0m \u001b[0mprint\u001b[0m\u001b[0;34m(\u001b[0m\u001b[0mb_arr_splice\u001b[0m\u001b[0;34m)\u001b[0m\u001b[0;34m\u001b[0m\u001b[0;34m\u001b[0m\u001b[0m\n\u001b[1;32m     14\u001b[0m \u001b[0;34m\u001b[0m\u001b[0m\n\u001b[0;32m---> 15\u001b[0;31m \u001b[0mnum_b_arr\u001b[0m \u001b[0;34m=\u001b[0m \u001b[0mbytes\u001b[0m\u001b[0;34m(\u001b[0m\u001b[0;34m[\u001b[0m\u001b[0;36m299\u001b[0m\u001b[0;34m]\u001b[0m\u001b[0;34m)\u001b[0m\u001b[0;34m\u001b[0m\u001b[0;34m\u001b[0m\u001b[0m\n\u001b[0m",
            "\u001b[0;31mValueError\u001b[0m: bytes must be in range(0, 256)"
          ]
        }
      ]
    },
    {
      "cell_type": "code",
      "metadata": {
        "colab": {
          "base_uri": "https://localhost:8080/"
        },
        "id": "THg1BPWs8qsG",
        "outputId": "73db81a4-a9da-4fc5-c7c7-e16db2f2f7cf"
      },
      "source": [
        "s = 'èçí'\n",
        "\n",
        "print()\n",
        "for b in s.encode('utf_8'):\n",
        "  print(hex(b), end=' ')"
      ],
      "execution_count": 67,
      "outputs": [
        {
          "output_type": "stream",
          "text": [
            "\n",
            "0xc3 0xa8 0xc3 0xa7 0xc3 0xad "
          ],
          "name": "stdout"
        }
      ]
    },
    {
      "cell_type": "code",
      "metadata": {
        "colab": {
          "base_uri": "https://localhost:8080/"
        },
        "id": "uS2uwYMx74El",
        "outputId": "0bce3c26-14e4-47f5-9070-0db928c64125"
      },
      "source": [
        "s = 'èçí'\n",
        "\n",
        "for b in s.encode('utf_16be'):\n",
        "  print(hex(b), end=' ')\n",
        "\n",
        "print()\n",
        "for b in s.encode('utf_16le'):\n",
        "  print(hex(b), end=' ')\n",
        "\n",
        "print()\n",
        "for b in s.encode('utf_16'):\n",
        "  print(hex(b), end=' ')"
      ],
      "execution_count": 40,
      "outputs": [
        {
          "output_type": "stream",
          "text": [
            "0x0 0xe8 0x0 0xe7 0x0 0xed \n",
            "0xe8 0x0 0xe7 0x0 0xed 0x0 \n",
            "0xff 0xfe 0xe8 0x0 0xe7 0x0 0xed 0x0 "
          ],
          "name": "stdout"
        }
      ]
    },
    {
      "cell_type": "code",
      "metadata": {
        "colab": {
          "base_uri": "https://localhost:8080/"
        },
        "id": "RKsdDEHKqFCO",
        "outputId": "e28e3f00-9329-4dc7-ed25-915d4e871468"
      },
      "source": [
        "s = 'èçí'\n",
        "\n",
        "for b in s.encode('utf_32be'):\n",
        "  print(hex(b), end=' ')\n",
        "\n",
        "print()\n",
        "for b in s.encode('utf_32le'):\n",
        "  print(hex(b), end=' ')\n",
        "\n",
        "print()\n",
        "for b in s.encode('utf_32'):\n",
        "  print(hex(b), end=' ')\n",
        "\n",
        "# print()\n",
        "# for b in s.encode('utf-8'):\n",
        "#   print(hex(b), end=' ')\n",
        "\n",
        "# print()\n",
        "# for b in s.encode('utf-16'):\n",
        "#   print(hex(b), end=' ')\n",
        "\n"
      ],
      "execution_count": 39,
      "outputs": [
        {
          "output_type": "stream",
          "text": [
            "0x0 0x0 0x0 0xe8 0x0 0x0 0x0 0xe7 0x0 0x0 0x0 0xed \n",
            "0xe8 0x0 0x0 0x0 0xe7 0x0 0x0 0x0 0xed 0x0 0x0 0x0 \n",
            "0xff 0xfe 0x0 0x0 0xe8 0x0 0x0 0x0 0xe7 0x0 0x0 0x0 0xed 0x0 0x0 0x0 "
          ],
          "name": "stdout"
        }
      ]
    },
    {
      "cell_type": "code",
      "metadata": {
        "colab": {
          "base_uri": "https://localhost:8080/"
        },
        "id": "NGzeEUnMnpg7",
        "outputId": "2fa1127b-5ca8-49d7-eb0f-c228267ef72e"
      },
      "source": [
        "s = 'è ç í'\n",
        "for c in s:\n",
        "  print(ord(c))"
      ],
      "execution_count": 26,
      "outputs": [
        {
          "output_type": "stream",
          "text": [
            "232\n",
            "32\n",
            "231\n",
            "32\n",
            "237\n"
          ],
          "name": "stdout"
        }
      ]
    },
    {
      "cell_type": "code",
      "metadata": {
        "colab": {
          "base_uri": "https://localhost:8080/",
          "height": 129
        },
        "id": "B6LdbDrAj3ir",
        "outputId": "53ac308a-0253-4eb7-cf97-cfb190461f98"
      },
      "source": [
        "s = b'é'\n"
      ],
      "execution_count": 19,
      "outputs": [
        {
          "output_type": "error",
          "ename": "SyntaxError",
          "evalue": "ignored",
          "traceback": [
            "\u001b[0;36m  File \u001b[0;32m\"<ipython-input-19-b82fcf157fe5>\"\u001b[0;36m, line \u001b[0;32m1\u001b[0m\n\u001b[0;31m    s = b'é'\u001b[0m\n\u001b[0m       ^\u001b[0m\n\u001b[0;31mSyntaxError\u001b[0m\u001b[0;31m:\u001b[0m bytes can only contain ASCII literal characters.\n"
          ]
        }
      ]
    },
    {
      "cell_type": "code",
      "metadata": {
        "colab": {
          "base_uri": "https://localhost:8080/"
        },
        "id": "PCHMdByTe-pY",
        "outputId": "966efbeb-4a29-4a30-cb15-bd02b1ed4304"
      },
      "source": [
        "s = 'hello world python'\n",
        "\n",
        "for c in s: \n",
        "  num = ord(c)\n",
        "  print(num, format(num, 'b'), bin(num))\n",
        "\n",
        "print(bin(ord('é')))\n",
        "  "
      ],
      "execution_count": 21,
      "outputs": [
        {
          "output_type": "stream",
          "text": [
            "104 1101000 0b1101000\n",
            "101 1100101 0b1100101\n",
            "108 1101100 0b1101100\n",
            "108 1101100 0b1101100\n",
            "111 1101111 0b1101111\n",
            "32 100000 0b100000\n",
            "119 1110111 0b1110111\n",
            "111 1101111 0b1101111\n",
            "114 1110010 0b1110010\n",
            "108 1101100 0b1101100\n",
            "100 1100100 0b1100100\n",
            "32 100000 0b100000\n",
            "112 1110000 0b1110000\n",
            "121 1111001 0b1111001\n",
            "116 1110100 0b1110100\n",
            "104 1101000 0b1101000\n",
            "111 1101111 0b1101111\n",
            "110 1101110 0b1101110\n",
            "0b11101001\n"
          ],
          "name": "stdout"
        }
      ]
    },
    {
      "cell_type": "code",
      "metadata": {
        "colab": {
          "base_uri": "https://localhost:8080/"
        },
        "id": "E8DvJVYBdXw1",
        "outputId": "a812c8df-8581-4851-956e-f6617cbd6d2e"
      },
      "source": [
        "s = 'hello world python'\n",
        "for c in s:\n",
        "  print(c, end=' ')"
      ],
      "execution_count": 2,
      "outputs": [
        {
          "output_type": "stream",
          "text": [
            "h e l l o   w o r l d   p y t h o n "
          ],
          "name": "stdout"
        }
      ]
    },
    {
      "cell_type": "markdown",
      "metadata": {
        "id": "U1BOXJGP8J3v"
      },
      "source": [
        "不同的编码方案编码同一个字符串的字符序列是什么样的？\n",
        "   \n",
        "\n",
        "```\n",
        "def printBytes(bs):\n",
        "    print()\n",
        "    for b in bs:\n",
        "        print(hex(b), end=' ')\n",
        "\n",
        "def printBytes(bs):\n",
        "    print([hex(i) for i in bs])\n",
        "\n",
        "\n",
        "s = 'How long is this?'\n",
        "s8 = s.encode('utf-8')\n",
        "s16 = s.encode('utf-16')\n",
        "s32 = s.encode('utf-32')\n",
        "# print((s8))\n",
        "printBytes(s8)\n",
        "# print(s16)\n",
        "printBytes(s16)\n",
        "# print(s32)\n",
        "printBytes(s32)\n",
        "```\n",
        "\n"
      ]
    },
    {
      "cell_type": "code",
      "metadata": {
        "id": "9QyjZD5C7K2p"
      },
      "source": [
        "def printBytes(bs):\n",
        "    print()\n",
        "    for b in bs:\n",
        "        print(hex(b), end=' ')\n",
        "\n",
        "def printBytes(bs):\n",
        "    print([hex(i) for i in bs])\n",
        "\n",
        "\n",
        "s = 'How long is this?'\n",
        "s8 = s.encode('utf-8')\n",
        "s16 = s.encode('utf-16')\n",
        "s32 = s.encode('utf-32')\n",
        "# print((s8))\n",
        "printBytes(s8)\n",
        "# print(s16)\n",
        "printBytes(s16)\n",
        "# print(s32)\n",
        "printBytes(s32)\n",
        "\n"
      ],
      "execution_count": null,
      "outputs": []
    },
    {
      "cell_type": "code",
      "metadata": {
        "id": "SXd6DLrT7Qtj"
      },
      "source": [
        "b = b'\\xce\\xb3\\xce\\xb9\\xce\\xb1\\xce\\xbf\\xcf\\x8d\\xcf\\x81\\xcf\\x84\\xce\\xb9 - yogurt'\n",
        "print(type(b))"
      ],
      "execution_count": null,
      "outputs": []
    },
    {
      "cell_type": "markdown",
      "metadata": {
        "id": "sq6bc-FpLxrr"
      },
      "source": [
        "转化为code point，看看各种编码方案是怎么编码的\n",
        "Unicode 规范 (https://www.unicode.org/) 旨在列出人类语言中用到的每个字符，并赋予每个字符唯一的编码。该规范持续进行修订和更新以添加新的语言和符号。\n",
        "\n",
        "https://docs.python.org/zh-cn/3/howto/unicode.html"
      ]
    },
    {
      "cell_type": "code",
      "metadata": {
        "colab": {
          "base_uri": "https://localhost:8080/"
        },
        "id": "4eC7BwXBJpsU",
        "outputId": "87af736e-ede9-404d-ad33-2644319507c8"
      },
      "source": [
        "# ord\n",
        "\n",
        "s = 'café'\n",
        "print([hex(ord(c)) for c in s])\n",
        "print([hex(b) for b in s.encode('utf-8')])\n",
        "print([hex(b) for b in s.encode('utf-16')])\n",
        "print([hex(b) for b in s.encode('utf-32')])"
      ],
      "execution_count": null,
      "outputs": [
        {
          "output_type": "stream",
          "text": [
            "['0x63', '0x61', '0x66', '0xe9']\n",
            "['0x63', '0x61', '0x66', '0xc3', '0xa9']\n",
            "['0xff', '0xfe', '0x63', '0x0', '0x61', '0x0', '0x66', '0x0', '0xe9', '0x0']\n",
            "['0xff', '0xfe', '0x0', '0x0', '0x63', '0x0', '0x0', '0x0', '0x61', '0x0', '0x0', '0x0', '0x66', '0x0', '0x0', '0x0', '0xe9', '0x0', '0x0', '0x0']\n"
          ],
          "name": "stdout"
        }
      ]
    },
    {
      "cell_type": "code",
      "metadata": {
        "colab": {
          "base_uri": "https://localhost:8080/"
        },
        "id": "N5cKqeWLWH3v",
        "outputId": "0e6c7e40-ef8b-4fa5-e06c-0ff1a9b2e1ad"
      },
      "source": [
        "cafe = bytes('café', encoding='utf-8')\n",
        "cafe_arr = bytearray(cafe)\n",
        "print(cafe_arr)\n",
        "\n",
        "cafe_arr_splice = cafe_arr[-1:]\n",
        "print(cafe_arr_splice)"
      ],
      "execution_count": null,
      "outputs": [
        {
          "output_type": "stream",
          "text": [
            "bytearray(b'caf\\xc3\\xa9')\n",
            "bytearray(b'\\xa9')\n"
          ],
          "name": "stdout"
        }
      ]
    },
    {
      "cell_type": "code",
      "metadata": {
        "id": "2Po58PvBb6nC"
      },
      "source": [
        "import array\n",
        "numbers = array.array('h', [-2, -1, 0 , 1, 2])\n",
        "bs = bytes(numbers)\n",
        "print(bs)\n",
        "\n",
        "[print(i, end=' ') for i in bs]"
      ],
      "execution_count": null,
      "outputs": []
    },
    {
      "cell_type": "code",
      "metadata": {
        "colab": {
          "base_uri": "https://localhost:8080/"
        },
        "id": "gJ45TW19_TAl",
        "outputId": "d13a9492-b1ec-49f7-965a-250c724ef920"
      },
      "source": [
        "open('cafe.txt', 'w', encoding='utf-8').write('café')\n",
        "\n",
        "fp = open('cafe.txt')\n",
        "print(fp)\n",
        "print(fp.read())\n",
        "\n",
        "# <_io.TextIOWrapper name='cafe.txt' mode='r' encoding='cp936'>\n",
        "# caf茅"
      ],
      "execution_count": null,
      "outputs": [
        {
          "output_type": "stream",
          "text": [
            "<_io.TextIOWrapper name='cafe.txt' mode='r' encoding='UTF-8'>\n",
            "café\n"
          ],
          "name": "stdout"
        }
      ]
    },
    {
      "cell_type": "code",
      "metadata": {
        "colab": {
          "base_uri": "https://localhost:8080/"
        },
        "id": "lRIQUw2QOfaZ",
        "outputId": "17841591-dc27-478d-c189-a14d89c36157"
      },
      "source": [
        "from unicodedata import normalize, name\n",
        "half = '½'\n",
        "print(len(half))\n",
        "print(hex(ord(half)))\n",
        "half_nor = normalize('NFKC', half)\n",
        "print(half_nor)\n",
        "print(type(half_nor))\n",
        "print(len(half_nor))\n",
        "for c in half_nor:\n",
        "  print(hex(ord(c)), end=' ')\n",
        "\n",
        "print()\n",
        "four_squared = '4²'\n",
        "four_squared_no = normalize('NFKC', four_squared)\n",
        "print(four_squared_no)\n",
        "\n",
        "micro = 'µ'\n",
        "micro_nor = normalize('NFKC', micro)\n",
        "print(micro_nor)\n",
        "print(ord(micro), ord(micro_nor))\n",
        "print(name(micro), name(micro_nor))"
      ],
      "execution_count": null,
      "outputs": [
        {
          "output_type": "stream",
          "text": [
            "1\n",
            "0xbd\n",
            "1⁄2\n",
            "<class 'str'>\n",
            "3\n",
            "0x31 0x2044 0x32 \n",
            "42\n",
            "μ\n",
            "181 956\n",
            "MICRO SIGN GREEK SMALL LETTER MU\n"
          ],
          "name": "stdout"
        }
      ]
    },
    {
      "cell_type": "code",
      "metadata": {
        "colab": {
          "base_uri": "https://localhost:8080/"
        },
        "id": "XeL7U_-hYmqX",
        "outputId": "9991bf5c-8af3-46c2-e416-0ed874ea6fe2"
      },
      "source": [
        "micro = 'µ'\n",
        "print(name(micro))\n",
        "micro_cf = micro.casefold()\n",
        "print(name(micro_cf))\n",
        "print((micro, micro_cf))\n",
        "eszett = 'ß'\n",
        "print(name(eszett))\n",
        "eszett_cf = eszett.casefold()\n",
        "print((eszett, eszett_cf))"
      ],
      "execution_count": null,
      "outputs": [
        {
          "output_type": "stream",
          "text": [
            "MICRO SIGN\n",
            "GREEK SMALL LETTER MU\n",
            "('µ', 'μ')\n",
            "LATIN SMALL LETTER SHARP S\n",
            "('ß', 'ss')\n"
          ],
          "name": "stdout"
        }
      ]
    },
    {
      "cell_type": "code",
      "metadata": {
        "colab": {
          "base_uri": "https://localhost:8080/"
        },
        "id": "9bprsCsAabx0",
        "outputId": "0218fa0c-ecc2-43ca-c184-88058d3b7897"
      },
      "source": [
        "# 通过规范化比较文本\n",
        "\n",
        "def nfc_equal(str1, str2):\n",
        "  return normalize('NFC', str1) == normalize('NFC', str2)\n",
        "\n",
        "def fold_equal(str1, str2):\n",
        "  return normalize('NFC', str1).casefold() == normalize('NFC', str2).casefold()\n",
        "\n",
        "s1 = 'café'\n",
        "s2 = 'cafe\\u0301'\n",
        "print(s1 == s2) \n",
        "\n",
        "print(nfc_equal(s1,s2))\n",
        "print(nfc_equal('A', 'a'))\n",
        "\n",
        "s3 = 'Straße'\n",
        "s4 = 'strasse'\n",
        "print(s3 == s4)\n",
        "print(nfc_equal(s3, s4))\n",
        "print(fold_equal(s3, s4))\n",
        "print(fold_equal(s1, s2))\n",
        "print(fold_equal('A', 'a'))\n"
      ],
      "execution_count": null,
      "outputs": [
        {
          "output_type": "stream",
          "text": [
            "False\n",
            "True\n",
            "False\n",
            "False\n",
            "False\n",
            "True\n",
            "True\n",
            "True\n"
          ],
          "name": "stdout"
        }
      ]
    },
    {
      "cell_type": "code",
      "metadata": {
        "colab": {
          "base_uri": "https://localhost:8080/"
        },
        "id": "eRQCmTt1cpaO",
        "outputId": "989f43b7-18cd-4fa5-946f-b523a504498d"
      },
      "source": [
        "# 极端规范化，去掉变音符号\n",
        "import unicodedata\n",
        "import string\n",
        "def shave_marks(txt):\n",
        "  txt_nor = normalize('NFD', txt)\n",
        "  txt_shaved = ''.join(c for c in txt_nor if not unicodedata.combining(c))\n",
        "  return normalize('NFC', txt_shaved)\n",
        "\n",
        "order = 'è ç í'\n",
        "print(shave_marks(order))\n",
        "\n",
        "greek = 'έ é'\n",
        "print(shave_marks(greek))\n",
        "\n",
        "\n",
        "def shave_marks_latin(txt):\n",
        "  txt_nor = normalize('NFD', txt)\n",
        "  latin_base = False\n",
        "  keep = []\n",
        "  for c in txt_nor:\n",
        "    if unicodedata.combining(c) and latin_base:\n",
        "      continue;\n",
        "    keep.append(c)\n",
        "    if not  unicodedata.combining(c):\n",
        "      latin_base = c in string.ascii_letters\n",
        "    \n",
        "  shaved = ''.join(keep)\n",
        "  return normalize('NFC', shaved)\n",
        "\n",
        "print(shave_marks_latin(order))\n",
        "print(shave_marks_latin(greek))\n"
      ],
      "execution_count": null,
      "outputs": [
        {
          "output_type": "stream",
          "text": [
            "e c i\n",
            "ε e\n",
            "e c i\n",
            "έ e\n"
          ],
          "name": "stdout"
        }
      ]
    }
  ]
}