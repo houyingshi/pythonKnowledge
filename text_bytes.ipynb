{
  "nbformat": 4,
  "nbformat_minor": 0,
  "metadata": {
    "colab": {
      "name": "text_bytes.ipynb",
      "provenance": [],
      "collapsed_sections": [],
      "toc_visible": true,
      "authorship_tag": "ABX9TyOHwV2v9CAizYabsjAuJ8fK"
    },
    "kernelspec": {
      "name": "python3",
      "display_name": "Python 3"
    },
    "language_info": {
      "name": "python"
    }
  },
  "cells": [
    {
      "cell_type": "markdown",
      "metadata": {
        "id": "8PjNO1OkfCUS"
      },
      "source": [
        "字符串、byte数组、编码是任何计算机语言都无法逃避的问题，今天简单的学习以下python中的字符串类型。\n",
        "\n",
        "一、"
      ]
    },
    {
      "cell_type": "markdown",
      "metadata": {
        "id": "U1BOXJGP8J3v"
      },
      "source": [
        "不同的编码方案编码同一个字符串的字符序列是什么样的？\n",
        "   \n",
        "\n",
        "```\n",
        "def printBytes(bs):\n",
        "    print()\n",
        "    for b in bs:\n",
        "        print(hex(b), end=' ')\n",
        "\n",
        "def printBytes(bs):\n",
        "    print([hex(i) for i in bs])\n",
        "\n",
        "\n",
        "s = 'How long is this?'\n",
        "s8 = s.encode('utf-8')\n",
        "s16 = s.encode('utf-16')\n",
        "s32 = s.encode('utf-32')\n",
        "# print((s8))\n",
        "printBytes(s8)\n",
        "# print(s16)\n",
        "printBytes(s16)\n",
        "# print(s32)\n",
        "printBytes(s32)\n",
        "```\n",
        "\n"
      ]
    },
    {
      "cell_type": "code",
      "metadata": {
        "id": "9QyjZD5C7K2p"
      },
      "source": [
        "def printBytes(bs):\n",
        "    print()\n",
        "    for b in bs:\n",
        "        print(hex(b), end=' ')\n",
        "\n",
        "def printBytes(bs):\n",
        "    print([hex(i) for i in bs])\n",
        "\n",
        "\n",
        "s = 'How long is this?'\n",
        "s8 = s.encode('utf-8')\n",
        "s16 = s.encode('utf-16')\n",
        "s32 = s.encode('utf-32')\n",
        "# print((s8))\n",
        "printBytes(s8)\n",
        "# print(s16)\n",
        "printBytes(s16)\n",
        "# print(s32)\n",
        "printBytes(s32)\n",
        "\n"
      ],
      "execution_count": null,
      "outputs": []
    },
    {
      "cell_type": "code",
      "metadata": {
        "id": "SXd6DLrT7Qtj"
      },
      "source": [
        "b = b'\\xce\\xb3\\xce\\xb9\\xce\\xb1\\xce\\xbf\\xcf\\x8d\\xcf\\x81\\xcf\\x84\\xce\\xb9 - yogurt'\n",
        "print(type(b))"
      ],
      "execution_count": null,
      "outputs": []
    },
    {
      "cell_type": "markdown",
      "metadata": {
        "id": "sq6bc-FpLxrr"
      },
      "source": [
        "转化为code point，看看各种编码方案是怎么编码的\n",
        "Unicode 规范 (https://www.unicode.org/) 旨在列出人类语言中用到的每个字符，并赋予每个字符唯一的编码。该规范持续进行修订和更新以添加新的语言和符号。\n",
        "\n",
        "https://docs.python.org/zh-cn/3/howto/unicode.html"
      ]
    },
    {
      "cell_type": "code",
      "metadata": {
        "colab": {
          "base_uri": "https://localhost:8080/"
        },
        "id": "4eC7BwXBJpsU",
        "outputId": "87af736e-ede9-404d-ad33-2644319507c8"
      },
      "source": [
        "# ord\n",
        "\n",
        "s = 'café'\n",
        "print([hex(ord(c)) for c in s])\n",
        "print([hex(b) for b in s.encode('utf-8')])\n",
        "print([hex(b) for b in s.encode('utf-16')])\n",
        "print([hex(b) for b in s.encode('utf-32')])"
      ],
      "execution_count": null,
      "outputs": [
        {
          "output_type": "stream",
          "text": [
            "['0x63', '0x61', '0x66', '0xe9']\n",
            "['0x63', '0x61', '0x66', '0xc3', '0xa9']\n",
            "['0xff', '0xfe', '0x63', '0x0', '0x61', '0x0', '0x66', '0x0', '0xe9', '0x0']\n",
            "['0xff', '0xfe', '0x0', '0x0', '0x63', '0x0', '0x0', '0x0', '0x61', '0x0', '0x0', '0x0', '0x66', '0x0', '0x0', '0x0', '0xe9', '0x0', '0x0', '0x0']\n"
          ],
          "name": "stdout"
        }
      ]
    },
    {
      "cell_type": "code",
      "metadata": {
        "colab": {
          "base_uri": "https://localhost:8080/"
        },
        "id": "N5cKqeWLWH3v",
        "outputId": "0e6c7e40-ef8b-4fa5-e06c-0ff1a9b2e1ad"
      },
      "source": [
        "cafe = bytes('café', encoding='utf-8')\n",
        "cafe_arr = bytearray(cafe)\n",
        "print(cafe_arr)\n",
        "\n",
        "cafe_arr_splice = cafe_arr[-1:]\n",
        "print(cafe_arr_splice)"
      ],
      "execution_count": null,
      "outputs": [
        {
          "output_type": "stream",
          "text": [
            "bytearray(b'caf\\xc3\\xa9')\n",
            "bytearray(b'\\xa9')\n"
          ],
          "name": "stdout"
        }
      ]
    },
    {
      "cell_type": "code",
      "metadata": {
        "id": "2Po58PvBb6nC"
      },
      "source": [
        "import array\n",
        "numbers = array.array('h', [-2, -1, 0 , 1, 2])\n",
        "bs = bytes(numbers)\n",
        "print(bs)\n",
        "\n",
        "[print(i, end=' ') for i in bs]"
      ],
      "execution_count": null,
      "outputs": []
    },
    {
      "cell_type": "code",
      "metadata": {
        "colab": {
          "base_uri": "https://localhost:8080/"
        },
        "id": "gJ45TW19_TAl",
        "outputId": "d13a9492-b1ec-49f7-965a-250c724ef920"
      },
      "source": [
        "open('cafe.txt', 'w', encoding='utf-8').write('café')\n",
        "\n",
        "fp = open('cafe.txt')\n",
        "print(fp)\n",
        "print(fp.read())\n",
        "\n",
        "# <_io.TextIOWrapper name='cafe.txt' mode='r' encoding='cp936'>\n",
        "# caf茅"
      ],
      "execution_count": null,
      "outputs": [
        {
          "output_type": "stream",
          "text": [
            "<_io.TextIOWrapper name='cafe.txt' mode='r' encoding='UTF-8'>\n",
            "café\n"
          ],
          "name": "stdout"
        }
      ]
    },
    {
      "cell_type": "code",
      "metadata": {
        "colab": {
          "base_uri": "https://localhost:8080/"
        },
        "id": "lRIQUw2QOfaZ",
        "outputId": "17841591-dc27-478d-c189-a14d89c36157"
      },
      "source": [
        "from unicodedata import normalize, name\n",
        "half = '½'\n",
        "print(len(half))\n",
        "print(hex(ord(half)))\n",
        "half_nor = normalize('NFKC', half)\n",
        "print(half_nor)\n",
        "print(type(half_nor))\n",
        "print(len(half_nor))\n",
        "for c in half_nor:\n",
        "  print(hex(ord(c)), end=' ')\n",
        "\n",
        "print()\n",
        "four_squared = '4²'\n",
        "four_squared_no = normalize('NFKC', four_squared)\n",
        "print(four_squared_no)\n",
        "\n",
        "micro = 'µ'\n",
        "micro_nor = normalize('NFKC', micro)\n",
        "print(micro_nor)\n",
        "print(ord(micro), ord(micro_nor))\n",
        "print(name(micro), name(micro_nor))"
      ],
      "execution_count": null,
      "outputs": [
        {
          "output_type": "stream",
          "text": [
            "1\n",
            "0xbd\n",
            "1⁄2\n",
            "<class 'str'>\n",
            "3\n",
            "0x31 0x2044 0x32 \n",
            "42\n",
            "μ\n",
            "181 956\n",
            "MICRO SIGN GREEK SMALL LETTER MU\n"
          ],
          "name": "stdout"
        }
      ]
    },
    {
      "cell_type": "code",
      "metadata": {
        "colab": {
          "base_uri": "https://localhost:8080/"
        },
        "id": "XeL7U_-hYmqX",
        "outputId": "9991bf5c-8af3-46c2-e416-0ed874ea6fe2"
      },
      "source": [
        "micro = 'µ'\n",
        "print(name(micro))\n",
        "micro_cf = micro.casefold()\n",
        "print(name(micro_cf))\n",
        "print((micro, micro_cf))\n",
        "eszett = 'ß'\n",
        "print(name(eszett))\n",
        "eszett_cf = eszett.casefold()\n",
        "print((eszett, eszett_cf))"
      ],
      "execution_count": null,
      "outputs": [
        {
          "output_type": "stream",
          "text": [
            "MICRO SIGN\n",
            "GREEK SMALL LETTER MU\n",
            "('µ', 'μ')\n",
            "LATIN SMALL LETTER SHARP S\n",
            "('ß', 'ss')\n"
          ],
          "name": "stdout"
        }
      ]
    },
    {
      "cell_type": "code",
      "metadata": {
        "colab": {
          "base_uri": "https://localhost:8080/"
        },
        "id": "9bprsCsAabx0",
        "outputId": "0218fa0c-ecc2-43ca-c184-88058d3b7897"
      },
      "source": [
        "# 通过规范化比较文本\n",
        "\n",
        "def nfc_equal(str1, str2):\n",
        "  return normalize('NFC', str1) == normalize('NFC', str2)\n",
        "\n",
        "def fold_equal(str1, str2):\n",
        "  return normalize('NFC', str1).casefold() == normalize('NFC', str2).casefold()\n",
        "\n",
        "s1 = 'café'\n",
        "s2 = 'cafe\\u0301'\n",
        "print(s1 == s2) \n",
        "\n",
        "print(nfc_equal(s1,s2))\n",
        "print(nfc_equal('A', 'a'))\n",
        "\n",
        "s3 = 'Straße'\n",
        "s4 = 'strasse'\n",
        "print(s3 == s4)\n",
        "print(nfc_equal(s3, s4))\n",
        "print(fold_equal(s3, s4))\n",
        "print(fold_equal(s1, s2))\n",
        "print(fold_equal('A', 'a'))\n"
      ],
      "execution_count": null,
      "outputs": [
        {
          "output_type": "stream",
          "text": [
            "False\n",
            "True\n",
            "False\n",
            "False\n",
            "False\n",
            "True\n",
            "True\n",
            "True\n"
          ],
          "name": "stdout"
        }
      ]
    },
    {
      "cell_type": "code",
      "metadata": {
        "colab": {
          "base_uri": "https://localhost:8080/"
        },
        "id": "eRQCmTt1cpaO",
        "outputId": "989f43b7-18cd-4fa5-946f-b523a504498d"
      },
      "source": [
        "# 极端规范化，去掉变音符号\n",
        "import unicodedata\n",
        "import string\n",
        "def shave_marks(txt):\n",
        "  txt_nor = normalize('NFD', txt)\n",
        "  txt_shaved = ''.join(c for c in txt_nor if not unicodedata.combining(c))\n",
        "  return normalize('NFC', txt_shaved)\n",
        "\n",
        "order = 'è ç í'\n",
        "print(shave_marks(order))\n",
        "\n",
        "greek = 'έ é'\n",
        "print(shave_marks(greek))\n",
        "\n",
        "\n",
        "def shave_marks_latin(txt):\n",
        "  txt_nor = normalize('NFD', txt)\n",
        "  latin_base = False\n",
        "  keep = []\n",
        "  for c in txt_nor:\n",
        "    if unicodedata.combining(c) and latin_base:\n",
        "      continue;\n",
        "    keep.append(c)\n",
        "    if not  unicodedata.combining(c):\n",
        "      latin_base = c in string.ascii_letters\n",
        "    \n",
        "  shaved = ''.join(keep)\n",
        "  return normalize('NFC', shaved)\n",
        "\n",
        "print(shave_marks_latin(order))\n",
        "print(shave_marks_latin(greek))\n"
      ],
      "execution_count": null,
      "outputs": [
        {
          "output_type": "stream",
          "text": [
            "e c i\n",
            "ε e\n",
            "e c i\n",
            "έ e\n"
          ],
          "name": "stdout"
        }
      ]
    }
  ]
}