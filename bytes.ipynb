{
  "nbformat": 4,
  "nbformat_minor": 0,
  "metadata": {
    "colab": {
      "name": "bytes.ipynb",
      "provenance": [],
      "collapsed_sections": [],
      "authorship_tag": "ABX9TyOwtUgCt1TrVqIrTzLCFGh7"
    },
    "kernelspec": {
      "name": "python3",
      "display_name": "Python 3"
    },
    "language_info": {
      "name": "python"
    }
  },
  "cells": [
    {
      "cell_type": "markdown",
      "metadata": {
        "id": "U1BOXJGP8J3v"
      },
      "source": [
        "不同的编码方案编码同一个字符串的字符序列是什么样的？"
      ]
    },
    {
      "cell_type": "code",
      "metadata": {
        "colab": {
          "base_uri": "https://localhost:8080/"
        },
        "id": "9QyjZD5C7K2p",
        "outputId": "9bce193d-d4ea-42d6-df3b-1fc13b5165ac"
      },
      "source": [
        "def printBytes(bs):\n",
        "    print()\n",
        "    for b in bs:\n",
        "        print(hex(b), end=' ')\n",
        "\n",
        "def printBytes(bs):\n",
        "    print([hex(i) for i in bs])\n",
        "\n",
        "\n",
        "s = 'hello world?'\n",
        "s8 = s.encode('utf-8')\n",
        "s16 = s.encode('utf-16')\n",
        "s32 = s.encode('utf-32')\n",
        "# print((s8))\n",
        "printBytes(s8)\n",
        "# print(s16)\n",
        "printBytes(s16)\n",
        "# print(s32)\n",
        "printBytes(s32)\n",
        "\n"
      ],
      "execution_count": 20,
      "outputs": [
        {
          "output_type": "stream",
          "text": [
            "['0x68', '0x65', '0x6c', '0x6c', '0x6f', '0x20', '0x77', '0x6f', '0x72', '0x6c', '0x64', '0x3f']\n",
            "['0xff', '0xfe', '0x68', '0x0', '0x65', '0x0', '0x6c', '0x0', '0x6c', '0x0', '0x6f', '0x0', '0x20', '0x0', '0x77', '0x0', '0x6f', '0x0', '0x72', '0x0', '0x6c', '0x0', '0x64', '0x0', '0x3f', '0x0']\n",
            "['0xff', '0xfe', '0x0', '0x0', '0x68', '0x0', '0x0', '0x0', '0x65', '0x0', '0x0', '0x0', '0x6c', '0x0', '0x0', '0x0', '0x6c', '0x0', '0x0', '0x0', '0x6f', '0x0', '0x0', '0x0', '0x20', '0x0', '0x0', '0x0', '0x77', '0x0', '0x0', '0x0', '0x6f', '0x0', '0x0', '0x0', '0x72', '0x0', '0x0', '0x0', '0x6c', '0x0', '0x0', '0x0', '0x64', '0x0', '0x0', '0x0', '0x3f', '0x0', '0x0', '0x0']\n"
          ],
          "name": "stdout"
        }
      ]
    },
    {
      "cell_type": "code",
      "metadata": {
        "colab": {
          "base_uri": "https://localhost:8080/"
        },
        "id": "SXd6DLrT7Qtj",
        "outputId": "f67d5ab4-9da5-4f89-966a-d0b67015e141"
      },
      "source": [
        "b = b'\\xce\\xb3\\xce\\xb9\\xce\\xb1\\xce\\xbf\\xcf\\x8d\\xcf\\x81\\xcf\\x84\\xce\\xb9 - yogurt'\n",
        "print(type(b))"
      ],
      "execution_count": 11,
      "outputs": [
        {
          "output_type": "stream",
          "text": [
            "<class 'bytes'>\n"
          ],
          "name": "stdout"
        }
      ]
    },
    {
      "cell_type": "markdown",
      "metadata": {
        "id": "KiERD5ui7RQ9"
      },
      "source": [
        ""
      ]
    }
  ]
}