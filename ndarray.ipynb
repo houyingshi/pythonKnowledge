{
  "nbformat": 4,
  "nbformat_minor": 0,
  "metadata": {
    "colab": {
      "name": "ndarray.ipynb",
      "provenance": [],
      "collapsed_sections": [],
      "authorship_tag": "ABX9TyNxRZR1ZHKzYxOBv4loAZHj"
    },
    "kernelspec": {
      "name": "python3",
      "display_name": "Python 3"
    },
    "language_info": {
      "name": "python"
    }
  },
  "cells": [
    {
      "cell_type": "code",
      "metadata": {
        "colab": {
          "base_uri": "https://localhost:8080/"
        },
        "id": "O9dLoV8Qt5i6",
        "outputId": "cc4eca01-16bf-4e95-efb0-96cc5a17352c"
      },
      "source": [
        "import numpy as np\n",
        "\n",
        "np_arr = np.arange(1000000)\n",
        "my_list = list(range(1000000))\n",
        "\n",
        "%time for _ in range(10):np_arr = np_arr*2\n",
        "\n",
        "%time for _ in range(10):my_list = [i*2 for i in my_list]\n"
      ],
      "execution_count": null,
      "outputs": [
        {
          "output_type": "stream",
          "text": [
            "CPU times: user 19.2 ms, sys: 827 µs, total: 20 ms\n",
            "Wall time: 20.1 ms\n",
            "CPU times: user 786 ms, sys: 129 ms, total: 915 ms\n",
            "Wall time: 923 ms\n"
          ],
          "name": "stdout"
        }
      ]
    },
    {
      "cell_type": "code",
      "metadata": {
        "colab": {
          "base_uri": "https://localhost:8080/"
        },
        "id": "IW72HE11xuJo",
        "outputId": "273472e3-b4c0-4aa6-88fc-54b72ae0a6ec"
      },
      "source": [
        "%%time\n",
        "my_list=[i for i in range(1000000)]\n",
        "\n"
      ],
      "execution_count": null,
      "outputs": [
        {
          "output_type": "stream",
          "text": [
            "CPU times: user 69.2 ms, sys: 19.9 ms, total: 89.1 ms\n",
            "Wall time: 96.9 ms\n"
          ],
          "name": "stdout"
        }
      ]
    },
    {
      "cell_type": "code",
      "metadata": {
        "colab": {
          "base_uri": "https://localhost:8080/"
        },
        "id": "lHFUjeOWyGMO",
        "outputId": "4760f2b1-698e-45b3-babe-30dcd0c7b70d"
      },
      "source": [
        "%%time\n",
        "my_list=[]\n",
        "for i in range(1000000):\n",
        "  my_list.append(i)"
      ],
      "execution_count": null,
      "outputs": [
        {
          "output_type": "stream",
          "text": [
            "CPU times: user 182 ms, sys: 18.1 ms, total: 200 ms\n",
            "Wall time: 207 ms\n"
          ],
          "name": "stdout"
        }
      ]
    },
    {
      "cell_type": "code",
      "metadata": {
        "colab": {
          "base_uri": "https://localhost:8080/"
        },
        "id": "N2YZC9OrymXX",
        "outputId": "9e56c309-3d8d-4457-e179-1e7e6c36eb28"
      },
      "source": [
        "%%timeit\n",
        "my_list=[]\n",
        "for i in range(1000000):\n",
        "     my_list.append(i)"
      ],
      "execution_count": null,
      "outputs": [
        {
          "output_type": "stream",
          "text": [
            "10 loops, best of 5: 113 ms per loop\n"
          ],
          "name": "stdout"
        }
      ]
    }
  ]
}