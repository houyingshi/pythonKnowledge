{
  "nbformat": 4,
  "nbformat_minor": 0,
  "metadata": {
    "colab": {
      "name": "numpy.ndarray.ipynb",
      "provenance": [],
      "collapsed_sections": [],
      "authorship_tag": "ABX9TyNBlFg3a3dBFhih7JSWVJui"
    },
    "kernelspec": {
      "name": "python3",
      "display_name": "Python 3"
    },
    "language_info": {
      "name": "python"
    }
  },
  "cells": [
    {
      "cell_type": "markdown",
      "metadata": {
        "id": "Mejx1AVMHtHE"
      },
      "source": [
        "可以直接使用astype转换数组元素的数据类型\n",
        "```\n",
        "# 使用astype将整形数组转化为浮点数组\n",
        "int_arr = np.array([1, 2, 3, 4])\n",
        "print(int_arr.dtype)\n",
        "float_arr = int_arr.astype(np.float32)\n",
        "print(float_arr.dtype)\n",
        "\n",
        "# int64\n",
        "# float32\n",
        "```\n",
        "如果你有一个数组，里面的元素都是表达数字含义的字符串，也可以通过astype将字符串转换为数字\n",
        "```\n",
        "# 使用astype将字符串类型转化为float类型\n",
        "import numpy as np\n",
        "nums_str = np.array(['1.25', '-5.67'], dtype= np.string_)\n",
        "print(nums_str.astype(float))\n",
        "print(nums_str.astype(np.float64))\n",
        "\n",
        "# [ 1.25 -5.67]\n",
        "# [ 1.25 -5.67]\n",
        "```\n",
        "**数组运算**\n",
        "\n",
        "numpy可以直接操作数组进行算术，任何在两个等尺寸数组之间的算术操作都应用了逐元素操作的方式\n",
        "```\n",
        "# 对数组整体进行加减\n",
        "arr = np.array([[1, 2, 3], [4, 5, 6]])\n",
        "print(arr)\n",
        "print()\n",
        "arr_mult = arr * arr\n",
        "print(arr_mult)\n",
        "print()\n",
        "arr_sub = arr - arr\n",
        "print(arr_sub)\n",
        "print()\n",
        "print(arr ** 2)\n",
        "print()\n",
        "print(1/arr)\n",
        "print()\n",
        "\n",
        "# [[1 2 3]\n",
        "#  [4 5 6]]\n",
        "\n",
        "# [[ 1  4  9]\n",
        "#  [16 25 36]]\n",
        "\n",
        "# [[0 0 0]\n",
        "#  [0 0 0]]\n",
        "\n",
        "# [[ 1  4  9]\n",
        "#  [16 25 36]]\n",
        "\n",
        "# [[1.         0.5        0.33333333]\n",
        "#  [0.25       0.2        0.16666667]]\n",
        "```\n",
        "\n",
        "同尺寸数组之间的比较，会产生一个布尔值数组\n",
        "```\n",
        "# 同尺寸数据进行比较\n",
        "arr = np.array([[1, 2, 3], [4, 5, 6]])\n",
        "arr_mult = arr * arr\n",
        "print(arr < arr_mult)\n",
        "\n",
        "# [[False  True  True]\n",
        "#  [ True  True  True]]\n",
        "```\n"
      ]
    },
    {
      "cell_type": "code",
      "metadata": {
        "id": "lQpjdrumOMU3"
      },
      "source": [
        "# 同尺寸数据进行比较\n",
        "arr = np.array([[1, 2, 3], [4, 5, 6]])\n",
        "arr_mult = arr * arr\n",
        "print(arr < arr_mult)\n",
        "\n",
        "# [[False  True  True]\n",
        "#  [ True  True  True]]"
      ],
      "execution_count": null,
      "outputs": []
    },
    {
      "cell_type": "code",
      "metadata": {
        "id": "wUI2WI6sMF1o"
      },
      "source": [
        "# 对数组整体进行加减\n",
        "arr = np.array([[1, 2, 3], [4, 5, 6]])\n",
        "print(arr)\n",
        "print()\n",
        "arr_mult = arr * arr\n",
        "print(arr_mult)\n",
        "print()\n",
        "arr_sub = arr - arr\n",
        "print(arr_sub)\n",
        "print()\n",
        "print(arr ** 2)\n",
        "print()\n",
        "print(1/arr)\n",
        "print()\n",
        "\n",
        "# [[1 2 3]\n",
        "#  [4 5 6]]\n",
        "\n",
        "# [[ 1  4  9]\n",
        "#  [16 25 36]]\n",
        "\n",
        "# [[0 0 0]\n",
        "#  [0 0 0]]\n",
        "\n",
        "# [[ 1  4  9]\n",
        "#  [16 25 36]]\n",
        "\n",
        "# [[1.         0.5        0.33333333]\n",
        "#  [0.25       0.2        0.16666667]]"
      ],
      "execution_count": null,
      "outputs": []
    },
    {
      "cell_type": "code",
      "metadata": {
        "id": "PNjjMF5yJdaM"
      },
      "source": [
        "# 使用astype将整形数组转化为浮点数组\n",
        "int_arr = np.array([1, 2, 3, 4])\n",
        "print(int_arr.dtype)\n",
        "float_arr = int_arr.astype(np.float32)\n",
        "print(float_arr.dtype)\n",
        "\n",
        "# int64\n",
        "# float32"
      ],
      "execution_count": null,
      "outputs": []
    },
    {
      "cell_type": "code",
      "metadata": {
        "id": "vlTNV1ylHpGD"
      },
      "source": [
        "# 使用astype将字符串类型转化为float类型\n",
        "import numpy as np\n",
        "nums_str = np.array(['1.25', '-5.67'], dtype= np.string_)\n",
        "print(nums_str.astype(float))\n",
        "print(nums_str.astype(np.float64))\n",
        "\n",
        "# [ 1.25 -5.67]\n",
        "# [ 1.25 -5.67]"
      ],
      "execution_count": null,
      "outputs": []
    }
  ]
}